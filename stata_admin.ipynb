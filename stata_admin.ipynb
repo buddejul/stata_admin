{
 "cells": [
  {
   "cell_type": "code",
   "execution_count": 28,
   "metadata": {},
   "outputs": [],
   "source": [
    "import stata_setup\n",
    "stata_setup.config(\"C:/Program Files/Stata17\", \"se\")"
   ]
  },
  {
   "cell_type": "markdown",
   "metadata": {},
   "source": [
    "## Set up simulated data in Stata\n",
    "Data broadly resembles a year panel based on IAB data with person (persnr), establishment (betnr) and year identifiers."
   ]
  },
  {
   "cell_type": "code",
   "execution_count": 29,
   "metadata": {},
   "outputs": [
    {
     "name": "stdout",
     "output_type": "stream",
     "text": [
      "\n",
      ". clear all\n",
      "\n",
      ". set obs 10000000\n",
      "Number of observations (_N) was 0, now 10,000,000.\n",
      "\n",
      ". \n",
      ". gen betnr = runiformint(1, 1000)\n",
      "\n",
      ". gen persnr = runiformint(1,100011)\n",
      "\n",
      ". gen year = runiformint(1972, 2019)\n",
      "\n",
      ". \n",
      ". gen double tentgelt = runiform(0, 100000) \n",
      "\n",
      ". \n",
      ". gen german = runiformint(0,1)\n",
      "\n",
      ". bysort persnr: replace german = german[_N]\n",
      "(4,950,882 real changes made)\n",
      "\n",
      ". \n"
     ]
    }
   ],
   "source": [
    "%%stata\n",
    "clear all\n",
    "set obs 10000000\n",
    "\n",
    "gen betnr = runiformint(1, 1000)\n",
    "gen persnr = runiformint(1,100000)\n",
    "gen year = runiformint(1972, 2019)\n",
    "\n",
    "gen double tentgelt = runiform(0, 100000) \n",
    "\n",
    "gen german = runiformint(0,1)\n",
    "bysort persnr: replace german = german[_N]"
   ]
  },
  {
   "cell_type": "markdown",
   "metadata": {},
   "source": [
    "# Working with yearly panels\n",
    "## Egen: max()\n",
    "    - initialize variable\n",
    "    - use max() function to get largest value into last observation determined by 'bysort'\n",
    "        - note missings are ignored by max() unless *all* observations are missing\n",
    "    - replace within 'bysort' by the last observation"
   ]
  },
  {
   "cell_type": "code",
   "execution_count": 30,
   "metadata": {},
   "outputs": [
    {
     "name": "stdout",
     "output_type": "stream",
     "text": [
      "\n",
      ". gen max_tentgelt = tentgelt\n",
      "\n",
      ". bysort persnr: replace max_tentgelt = max(max_tentgelt[_n-1], max_tentgelt)\n",
      "(9,481,927 real changes made)\n",
      "\n",
      ". bysort persnr: replace max_tentgelt = max_tentgelt[_N]\n",
      "(4,946,233 real changes made)\n",
      "\n",
      ". \n"
     ]
    }
   ],
   "source": [
    "%%stata\n",
    "gen max_tentgelt = tentgelt\n",
    "bysort persnr: replace max_tentgelt = max(max_tentgelt[_n-1], max_tentgelt)\n",
    "bysort persnr: replace max_tentgelt = max_tentgelt[_N]"
   ]
  },
  {
   "cell_type": "markdown",
   "metadata": {},
   "source": [
    "### Run-time comparison\n"
   ]
  },
  {
   "cell_type": "code",
   "execution_count": 31,
   "metadata": {},
   "outputs": [
    {
     "name": "stdout",
     "output_type": "stream",
     "text": [
      "\n",
      ". drop max_tentgelt\n",
      "\n",
      ". timer on 1\n",
      "\n",
      ". gen max_tentgelt = tentgelt\n",
      "\n",
      ". bysort persnr: replace max_tentgelt = max(max_tentgelt[_n-1], max_tentgelt)\n",
      "(9,481,927 real changes made)\n",
      "\n",
      ". bysort persnr: replace max_tentgelt = max_tentgelt[_N]\n",
      "(4,946,233 real changes made)\n",
      "\n",
      ". timer off 1\n",
      "\n",
      ". \n",
      ". timer on 2\n",
      "\n",
      ". egen max_tentgelt_egen = max(tentgelt), by(persnr)\n",
      "\n",
      ". timer off 2\n",
      "\n",
      ". \n",
      ". timer on 3\n",
      "\n",
      ". gegen max_tentgelt_gegen = max(tentgelt), by(persnr)\n",
      "\n",
      ". timer off 3\n",
      "\n",
      ". \n",
      ". timer list\n",
      "   1:      1.85 /        1 =       1.8490\n",
      "   2:      3.56 /        1 =       3.5600\n",
      "   3:      0.59 /        1 =       0.5910\n",
      "\n",
      ". \n"
     ]
    }
   ],
   "source": [
    "%%stata\n",
    "drop max_tentgelt\n",
    "timer on 1\n",
    "gen max_tentgelt = tentgelt\n",
    "bysort persnr: replace max_tentgelt = max(max_tentgelt[_n-1], max_tentgelt)\n",
    "bysort persnr: replace max_tentgelt = max_tentgelt[_N]\n",
    "timer off 1\n",
    "\n",
    "timer on 2\n",
    "egen max_tentgelt_egen = max(tentgelt), by(persnr)\n",
    "timer off 2\n",
    "\n",
    "timer on 3\n",
    "gegen max_tentgelt_gegen = max(tentgelt), by(persnr)\n",
    "timer off 3\n",
    "\n",
    "timer list"
   ]
  }
 ],
 "metadata": {
  "interpreter": {
   "hash": "bbc3eca14cb1c37c617bb15d6e89524bca01e858ce122821f4997e10cddd7b1f"
  },
  "kernelspec": {
   "display_name": "Python 3.8.5 64-bit ('base': conda)",
   "language": "python",
   "name": "python3"
  },
  "language_info": {
   "codemirror_mode": {
    "name": "ipython",
    "version": 3
   },
   "file_extension": ".py",
   "mimetype": "text/x-python",
   "name": "python",
   "nbconvert_exporter": "python",
   "pygments_lexer": "ipython3",
   "version": "3.8.5"
  },
  "orig_nbformat": 4
 },
 "nbformat": 4,
 "nbformat_minor": 2
}
