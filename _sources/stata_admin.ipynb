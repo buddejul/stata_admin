{
 "cells": [
  {
   "cell_type": "markdown",
   "metadata": {},
   "source": [
    "# Stata Admin Programming"
   ]
  },
  {
   "cell_type": "code",
   "execution_count": 1,
   "metadata": {},
   "outputs": [
    {
     "ename": "SyntaxError",
     "evalue": "invalid syntax (<ipython-input-1-6e2665b4b1c9>, line 1)",
     "output_type": "error",
     "traceback": [
      "\u001b[1;36m  File \u001b[1;32m\"<ipython-input-1-6e2665b4b1c9>\"\u001b[1;36m, line \u001b[1;32m1\u001b[0m\n\u001b[1;33m    pip install --upgrade --user stata_setup\u001b[0m\n\u001b[1;37m        ^\u001b[0m\n\u001b[1;31mSyntaxError\u001b[0m\u001b[1;31m:\u001b[0m invalid syntax\n"
     ]
    }
   ],
   "source": [
    "import stata_setup\n",
    "stata_setup.config(\"C:/Program Files/Stata17\", \"se\")"
   ]
  },
  {
   "cell_type": "markdown",
   "metadata": {},
   "source": [
    "## Set up simulated data in Stata\n",
    "Data broadly resembles a year panel based on IAB data with person (persnr), establishment (betnr) and year identifiers."
   ]
  },
  {
   "cell_type": "code",
   "execution_count": null,
   "metadata": {},
   "outputs": [],
   "source": [
    "%%stata\n",
    "clear all\n",
    "set obs 10000000\n",
    "\n",
    "gen betnr = runiformint(1, 1000)\n",
    "gen persnr = runiformint(1,100000)\n",
    "gen year = runiformint(1972, 2019)\n",
    "\n",
    "gen double tentgelt = runiform(0, 100000) \n",
    "\n",
    "gen german = runiformint(0,1)\n",
    "bysort persnr: replace german = german[_N]"
   ]
  },
  {
   "cell_type": "markdown",
   "metadata": {},
   "source": [
    "# Working with yearly panels\n",
    "## Egen: max()\n",
    "    - initialize variable\n",
    "    - use max() function to get largest value into last observation determined by 'bysort'\n",
    "        - note missings are ignored by max() unless *all* observations are missing\n",
    "    - replace within 'bysort' by the last observation"
   ]
  },
  {
   "cell_type": "code",
   "execution_count": null,
   "metadata": {},
   "outputs": [],
   "source": [
    "%%stata\n",
    "gen max_tentgelt = tentgelt\n",
    "bysort persnr: replace max_tentgelt = max(max_tentgelt[_n-1], max_tentgelt)\n",
    "bysort persnr: replace max_tentgelt = max_tentgelt[_N]"
   ]
  },
  {
   "cell_type": "markdown",
   "metadata": {},
   "source": [
    "### Run-time comparison\n"
   ]
  },
  {
   "cell_type": "code",
   "execution_count": null,
   "metadata": {},
   "outputs": [],
   "source": [
    "%%stata\n",
    "drop max_tentgelt\n",
    "timer on 1\n",
    "gen double max_tentgelt = tentgelt\n",
    "bysort persnr: replace max_tentgelt = max(max_tentgelt[_n-1], max_tentgelt)\n",
    "bysort persnr: replace max_tentgelt = max_tentgelt[_N]\n",
    "timer off 1\n",
    "\n",
    "timer on 2\n",
    "egen double max_tentgelt_egen = max(tentgelt), by(persnr)\n",
    "timer off 2\n",
    "\n",
    "timer on 3\n",
    "gegen double max_tentgelt_gegen = max(tentgelt), by(persnr)\n",
    "timer off 3\n",
    "\n",
    "assert max_tentgelt == max_tentgelt_egen\n",
    "assert max_tentgelt == max_tentgelt_gegen\n",
    "\n",
    "timer list"
   ]
  }
 ],
 "metadata": {
  "interpreter": {
   "hash": "bbc3eca14cb1c37c617bb15d6e89524bca01e858ce122821f4997e10cddd7b1f"
  },
  "kernelspec": {
   "display_name": "Python 3.8.5 64-bit ('base': conda)",
   "language": "python",
   "name": "python3"
  },
  "language_info": {
   "codemirror_mode": {
    "name": "ipython",
    "version": 3
   },
   "file_extension": ".py",
   "mimetype": "text/x-python",
   "name": "python",
   "nbconvert_exporter": "python",
   "pygments_lexer": "ipython3",
   "version": "3.8.5"
  },
  "orig_nbformat": 4
 },
 "nbformat": 4,
 "nbformat_minor": 2
}
