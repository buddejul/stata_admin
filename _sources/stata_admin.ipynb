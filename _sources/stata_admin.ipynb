{
 "cells": [
  {
   "cell_type": "markdown",
   "metadata": {},
   "source": [
    "# Stata Admin Programming"
   ]
  },
  {
   "cell_type": "code",
   "execution_count": 64,
   "metadata": {},
   "outputs": [],
   "source": [
    "import stata_setup\n",
    "stata_setup.config(\"C:/Program Files/Stata17\", \"se\")"
   ]
  },
  {
   "cell_type": "markdown",
   "metadata": {},
   "source": [
    "## Set up simulated data in Stata\n",
    "Data broadly resembles a year panel based on IAB data with person (persnr), establishment (betnr) and year identifiers."
   ]
  },
  {
   "cell_type": "code",
   "execution_count": 65,
   "metadata": {},
   "outputs": [
    {
     "name": "stdout",
     "output_type": "stream",
     "text": [
      "\n",
      ". clear all\n",
      "\n",
      ". set obs 100000\n",
      "Number of observations (_N) was 0, now 100,000.\n",
      "\n",
      ". \n",
      ". gen betnr = runiformint(1, 1000)\n",
      "\n",
      ". gen persnr = runiformint(1,100000)\n",
      "\n",
      ". gen year = runiformint(1972, 2019)\n",
      "\n",
      ". \n",
      ". gen double tentgelt = runiform(0, 100000) \n",
      "\n",
      ". cap drop random\n",
      "\n",
      ". gen random = runiform(0,1)\n",
      "\n",
      ". replace tentgelt = . if random < 0.05\n",
      "(4,942 real changes made, 4,942 to missing)\n",
      "\n",
      ". \n",
      ". gen german = runiformint(0,1)\n",
      "\n",
      ". bysort persnr: replace german = german[_N]\n",
      "(18,436 real changes made)\n",
      "\n",
      ". \n"
     ]
    }
   ],
   "source": [
    "%%stata\n",
    "clear all\n",
    "set obs 100000\n",
    "\n",
    "gen betnr = runiformint(1, 1000)\n",
    "gen persnr = runiformint(1,100000)\n",
    "gen year = runiformint(1972, 2019)\n",
    "\n",
    "gen double tentgelt = runiform(0, 100000) \n",
    "cap drop random\n",
    "gen random = runiform(0,1)\n",
    "replace tentgelt = . if random < 0.05\n",
    "\n",
    "gen german = runiformint(0,1)\n",
    "bysort persnr: replace german = german[_N]"
   ]
  },
  {
   "cell_type": "markdown",
   "metadata": {},
   "source": [
    "# Working with yearly panels\n",
    "## Egen: max()\n",
    "    - initialize variable\n",
    "    - use max() function to get largest value into last observation determined by 'bysort'\n",
    "        - note missings are ignored by max() unless *all* observations are missing\n",
    "    - replace within 'bysort' by the last observation"
   ]
  },
  {
   "cell_type": "code",
   "execution_count": 66,
   "metadata": {},
   "outputs": [
    {
     "name": "stdout",
     "output_type": "stream",
     "text": [
      "\n",
      ". gen max_tentgelt = tentgelt\n",
      "(4,942 missing values generated)\n",
      "\n",
      ". bysort persnr: replace max_tentgelt = max(max_tentgelt[_n-1], max_tentgelt)\n",
      "(20,273 real changes made)\n",
      "\n",
      ". bysort persnr: replace max_tentgelt = max_tentgelt[_N]\n",
      "(18,320 real changes made)\n",
      "\n",
      ". \n"
     ]
    }
   ],
   "source": [
    "%%stata\n",
    "gen max_tentgelt = tentgelt\n",
    "bysort persnr: replace max_tentgelt = max(max_tentgelt[_n-1], max_tentgelt)\n",
    "bysort persnr: replace max_tentgelt = max_tentgelt[_N]"
   ]
  },
  {
   "cell_type": "markdown",
   "metadata": {},
   "source": [
    "### Run-time comparison\n"
   ]
  },
  {
   "cell_type": "code",
   "execution_count": 67,
   "metadata": {},
   "outputs": [
    {
     "name": "stdout",
     "output_type": "stream",
     "text": [
      "\n",
      ". drop max_tentgelt\n",
      "\n",
      ". timer on 1\n",
      "\n",
      ". gen double max_tentgelt = tentgelt\n",
      "(4,942 missing values generated)\n",
      "\n",
      ". bysort persnr: replace max_tentgelt = max(max_tentgelt[_n-1], max_tentgelt)\n",
      "(20,273 real changes made)\n",
      "\n",
      ". bysort persnr: replace max_tentgelt = max_tentgelt[_N]\n",
      "(18,320 real changes made)\n",
      "\n",
      ". timer off 1\n",
      "\n",
      ". \n",
      ". timer on 2\n",
      "\n",
      ". egen double max_tentgelt_egen = max(tentgelt), by(persnr)\n",
      "(1,910 missing values generated)\n",
      "\n",
      ". timer off 2\n",
      "\n",
      ". \n",
      ". timer on 3\n",
      "\n",
      ". gegen double max_tentgelt_gegen = max(tentgelt), by(persnr)\n",
      "\n",
      ". timer off 3\n",
      "\n",
      ". \n",
      ". assert max_tentgelt == max_tentgelt_egen\n",
      "\n",
      ". assert max_tentgelt == max_tentgelt_gegen\n",
      "\n",
      ". \n",
      ". timer list\n",
      "   1:      0.16 /        1 =       0.1560\n",
      "   2:      0.11 /        1 =       0.1130\n",
      "   3:      0.07 /        1 =       0.0730\n",
      "\n",
      ". \n"
     ]
    }
   ],
   "source": [
    "%%stata\n",
    "drop max_tentgelt\n",
    "timer on 1\n",
    "gen double max_tentgelt = tentgelt\n",
    "bysort persnr: replace max_tentgelt = max(max_tentgelt[_n-1], max_tentgelt)\n",
    "bysort persnr: replace max_tentgelt = max_tentgelt[_N]\n",
    "timer off 1\n",
    "\n",
    "timer on 2\n",
    "egen double max_tentgelt_egen = max(tentgelt), by(persnr)\n",
    "timer off 2\n",
    "\n",
    "timer on 3\n",
    "gegen double max_tentgelt_gegen = max(tentgelt), by(persnr)\n",
    "timer off 3\n",
    "\n",
    "assert max_tentgelt == max_tentgelt_egen\n",
    "assert max_tentgelt == max_tentgelt_gegen\n",
    "\n",
    "timer list"
   ]
  },
  {
   "cell_type": "markdown",
   "metadata": {},
   "source": [
    "## Egen: min()\n",
    "- use bysort with implicit sorting on the variable of interest to (a) compute by groups and (b) utilize that sorting starts with the smallest value"
   ]
  },
  {
   "cell_type": "code",
   "execution_count": 68,
   "metadata": {},
   "outputs": [
    {
     "name": "stdout",
     "output_type": "stream",
     "text": [
      "\n",
      ". bysort persnr (tentgelt): gen double min_tentgelt = tentgelt[1]\n",
      "(1,910 missing values generated)\n",
      "\n",
      ". \n",
      ". egen double min_tentgelt_egen = min(tentgelt), by(persnr)\n",
      "(1,910 missing values generated)\n",
      "\n",
      ". \n",
      ". gegen double min_tentgelt_gegen = min(tentgelt), by(persnr)\n",
      "\n",
      ". \n",
      ". assert min_tentgelt == min_tentgelt_egen\n",
      "\n",
      ". assert min_tentgelt == min_tentgelt_gegen\n",
      "\n",
      ". \n"
     ]
    }
   ],
   "source": [
    "%%stata\n",
    "bysort persnr (tentgelt): gen double min_tentgelt = tentgelt[1]\n",
    "\n",
    "egen double min_tentgelt_egen = min(tentgelt), by(persnr)\n",
    "\n",
    "gegen double min_tentgelt_gegen = min(tentgelt), by(persnr)\n",
    "\n",
    "assert min_tentgelt == min_tentgelt_egen\n",
    "assert min_tentgelt == min_tentgelt_gegen"
   ]
  },
  {
   "cell_type": "markdown",
   "metadata": {},
   "source": [
    "### Run-time comparison"
   ]
  },
  {
   "cell_type": "code",
   "execution_count": 69,
   "metadata": {},
   "outputs": [
    {
     "name": "stdout",
     "output_type": "stream",
     "text": [
      "\n",
      ". cap drop min_tentgelt*\n",
      "\n",
      ". \n",
      ". timer on 1\n",
      "\n",
      ". bysort persnr (tentgelt): gen double min_tentgelt = tentgelt[1]\n",
      "(1,910 missing values generated)\n",
      "\n",
      ". timer off 1\n",
      "\n",
      ". \n",
      ". timer on 2\n",
      "\n",
      ". egen double min_tentgelt_egen = min(tentgelt), by(persnr)\n",
      "(1,910 missing values generated)\n",
      "\n",
      ". timer off 2\n",
      "\n",
      ". \n",
      ". timer on 3\n",
      "\n",
      ". gegen double min_tentgelt_gegen = min(tentgelt), by(persnr)\n",
      "\n",
      ". timer off 3\n",
      "\n",
      ". \n",
      ". timer list\n",
      "   1:      0.18 /        2 =       0.0890\n",
      "   2:      0.32 /        2 =       0.1590\n",
      "   3:      0.13 /        2 =       0.0645\n",
      "\n",
      ". \n"
     ]
    }
   ],
   "source": [
    "%%stata\n",
    "cap drop min_tentgelt*\n",
    "\n",
    "timer on 1\n",
    "bysort persnr (tentgelt): gen double min_tentgelt = tentgelt[1]\n",
    "timer off 1\n",
    "\n",
    "timer on 2\n",
    "egen double min_tentgelt_egen = min(tentgelt), by(persnr)\n",
    "timer off 2\n",
    "\n",
    "timer on 3\n",
    "gegen double min_tentgelt_gegen = min(tentgelt), by(persnr)\n",
    "timer off 3\n",
    "\n",
    "timer list"
   ]
  },
  {
   "cell_type": "markdown",
   "metadata": {},
   "source": [
    "## Egen: rank()\n",
    "rank is a little more subtle mostly because ties are broken in an arbitrary manner in the egen() function (and thus also for gegen)\n",
    "the default egen option, however, is to assign the average rank to equal observations\n",
    "while this is always unique it is harder to implement resorting only to sorting methods"
   ]
  },
  {
   "cell_type": "markdown",
   "metadata": {},
   "source": [
    "### rank() - low-to-high, (non-)arbitrary tie breaks\n",
    "this is probably the easiest to implement\n",
    "- implicitly sort by the variable to be ranked on and then use the _n index\n",
    "    - caveat: missing values will be sorted to the end (as they are handled as infinitely large in Stata)\n",
    "    - this means that we can simply set the rank variable to missing for those with missing base variables\n",
    "    - the sorting will not be impacted as it is low-to-high \n",
    "- to make tie-breaks non arbitrary: implicitly sort by a simulated  variable"
   ]
  },
  {
   "cell_type": "code",
   "execution_count": 70,
   "metadata": {},
   "outputs": [
    {
     "name": "stdout",
     "output_type": "stream",
     "text": [
      "\n",
      ". set seed 1234\n",
      "\n",
      ". cap drop sortvar\n",
      "\n",
      ". gen sortvar = runiform(0,1)\n",
      "\n",
      ". \n",
      ". bysort betnr year (tentgelt sortvar): gen rank_tentgelt = _n ///\n",
      ">     if !missing(tentgelt)\n",
      "(4,942 missing values generated)\n",
      "\n",
      ". assert missing(rank_tentgelt) if missing(tentgelt)\n",
      "\n",
      ". assert missing(tentgelt) if missing(rank_tentgelt)\n",
      "\n",
      ". \n",
      ". bysort betnr year (sortvar): egen rank_tentgelt_egen = rank(tentgelt)\n",
      "(4,942 missing values generated)\n",
      "\n",
      ". bysort betnr year (sortvar): gegen rank_tentgelt_gegen = rank(tentgelt)\n",
      "rank() is not a gtools function; will hash and use egen\n",
      "(4942 missing values generated)\n",
      "\n",
      ". \n",
      ". sum rank*\n",
      "\n",
      "    Variable |        Obs        Mean    Std. dev.       Min        Max\n",
      "-------------+---------------------------------------------------------\n",
      "rank_tentg~t |     95,058    1.991584    1.145786          1         10\n",
      "rank_t~_egen |     95,058    1.991584    1.145786          1         10\n",
      "rank_t~gegen |     95,058    1.991584    1.145786          1         10\n",
      "\n",
      ". \n",
      ". assert rank_tentgelt == rank_tentgelt_egen\n",
      "\n",
      ". assert rank_tentgelt == rank_tentgelt_gegen\n",
      "\n",
      ". \n"
     ]
    }
   ],
   "source": [
    "%%stata\n",
    "set seed 1234\n",
    "cap drop sortvar\n",
    "gen sortvar = runiform(0,1)\n",
    "\n",
    "bysort betnr year (tentgelt sortvar): gen rank_tentgelt = _n ///\n",
    "    if !missing(tentgelt)\n",
    "assert missing(rank_tentgelt) if missing(tentgelt)\n",
    "assert missing(tentgelt) if missing(rank_tentgelt)\n",
    "\n",
    "bysort betnr year (sortvar): egen rank_tentgelt_egen = rank(tentgelt)\n",
    "bysort betnr year (sortvar): gegen rank_tentgelt_gegen = rank(tentgelt)\n",
    "\n",
    "sum rank*\n",
    "\n",
    "assert rank_tentgelt == rank_tentgelt_egen\n",
    "assert rank_tentgelt == rank_tentgelt_gegen\n"
   ]
  },
  {
   "cell_type": "markdown",
   "metadata": {},
   "source": [
    "## Run-time comparison"
   ]
  },
  {
   "cell_type": "code",
   "execution_count": 72,
   "metadata": {},
   "outputs": [
    {
     "name": "stdout",
     "output_type": "stream",
     "text": [
      "\n",
      ". cap drop rank*\n",
      "\n",
      ". timer on 1\n",
      "\n",
      ". set seed 1234\n",
      "\n",
      ". cap drop sortvar\n",
      "\n",
      ". gen sortvar = runiform(0,1)\n",
      "\n",
      ". bysort betnr year (tentgelt sortvar): gen rank_tentgelt = _n ///\n",
      ">     if !missing(tentgelt)\n",
      "(4,942 missing values generated)\n",
      "\n",
      ". timer off 1\n",
      "\n",
      ". \n",
      ". timer on 2\n",
      "\n",
      ". set seed 1234\n",
      "\n",
      ". cap drop sortvar\n",
      "\n",
      ". gen sortvar = runiform(0,1)\n",
      "\n",
      ". bysort betnr year (sortvar): egen rank_tentgelt_egen = rank(tentgelt)\n",
      "(4,942 missing values generated)\n",
      "\n",
      ". timer off 2\n",
      "\n",
      ". \n",
      ". timer on 3\n",
      "\n",
      ". set seed 1234\n",
      "\n",
      ". cap drop sortvar\n",
      "\n",
      ". gen sortvar = runiform(0,1)\n",
      "\n",
      ". bysort betnr year (sortvar): gegen rank_tentgelt_gegen = rank(tentgelt)\n",
      "rank() is not a gtools function; will hash and use egen\n",
      "(4942 missing values generated)\n",
      "\n",
      ". timer off 3\n",
      "\n",
      ". \n",
      ". timer list\n",
      "   1:      0.28 /        4 =       0.0690\n",
      "   2:      0.96 /        4 =       0.2397\n",
      "   3:      0.81 /        4 =       0.2035\n",
      "\n",
      ". \n"
     ]
    }
   ],
   "source": [
    "%%stata\n",
    "cap drop rank*\n",
    "timer on 1\n",
    "set seed 1234\n",
    "cap drop sortvar\n",
    "gen sortvar = runiform(0,1)\n",
    "bysort betnr year (tentgelt sortvar): gen rank_tentgelt = _n ///\n",
    "    if !missing(tentgelt)\n",
    "timer off 1\n",
    "\n",
    "timer on 2\n",
    "set seed 1234\n",
    "cap drop sortvar\n",
    "gen sortvar = runiform(0,1)\n",
    "bysort betnr year (sortvar): egen rank_tentgelt_egen = rank(tentgelt)\n",
    "timer off 2\n",
    "\n",
    "timer on 3\n",
    "set seed 1234\n",
    "cap drop sortvar\n",
    "gen sortvar = runiform(0,1)\n",
    "bysort betnr year (sortvar): gegen rank_tentgelt_gegen = rank(tentgelt)\n",
    "timer off 3\n",
    "\n",
    "timer list"
   ]
  }
 ],
 "metadata": {
  "interpreter": {
   "hash": "bbc3eca14cb1c37c617bb15d6e89524bca01e858ce122821f4997e10cddd7b1f"
  },
  "kernelspec": {
   "display_name": "Python 3.8.5 64-bit ('base': conda)",
   "language": "python",
   "name": "python3"
  },
  "language_info": {
   "codemirror_mode": {
    "name": "ipython",
    "version": 3
   },
   "file_extension": ".py",
   "mimetype": "text/x-python",
   "name": "python",
   "nbconvert_exporter": "python",
   "pygments_lexer": "ipython3",
   "version": "3.8.5"
  },
  "orig_nbformat": 4
 },
 "nbformat": 4,
 "nbformat_minor": 2
}
